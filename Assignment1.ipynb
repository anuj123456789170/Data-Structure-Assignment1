{
  "nbformat": 4,
  "nbformat_minor": 0,
  "metadata": {
    "colab": {
      "provenance": []
    },
    "kernelspec": {
      "name": "python3",
      "display_name": "Python 3"
    },
    "language_info": {
      "name": "python"
    }
  },
  "cells": [
    {
      "cell_type": "code",
      "execution_count": null,
      "metadata": {
        "id": "3a1Lmw3VvqFB"
      },
      "outputs": [],
      "source": []
    },
    {
      "cell_type": "markdown",
      "source": [
        "1. **What are data structures, and why are they important.**\n",
        " - A data structure is a way to store and organize data efficiently in Python. Common types include lists, tuples, sets, and dictionaries, which help in managing and accessing data quickly.\n",
        "2. **Explain the difference between mutable and immutable data types with examplesold **\n",
        " - Mutable data types can be changed after creation (e.g., lists, dictionaries, sets), while immutable data types cannot be modified after creation (e.g., tuples, strings, numbers).\n",
        "3. **3. Why might you use a set instead of a list in Python?**\n",
        " - A set is used instead of a list when you need to store unique elements and perform fast membership checks. Unlike lists, sets do not allow duplicates and use hashing, making lookups (in operation) significantly faster.\n",
        "4. **How do tuples ensure data integrity in Python?**\n",
        " - Tuples are immutable, meaning their values cannot be changed after creation, ensuring data consistency and integrity.\n",
        "5. **What is a hash table, and how does it relate to dictionaries in Python?**\n",
        " - A hash table is a data structure that stores key-value pairs using a hashing function, which is how Python dictionaries provide fast lookups.\n",
        "6. **Can lists contain different data types in Python?**\n",
        " - Yes, Python lists can store elements of different data types, including integers, strings, and even other lists.\n",
        "7. ** Explain why strings are immutable in Python.**\n",
        " - Strings are immutable to enhance security, optimize memory usage, and allow string interning for performance benefits.\n",
        "8. **What advantages do dictionaries offer over lists for certain tasks?**\n",
        " - Dictionaries provide faster lookups (O(1) average time complexity) using keys, whereas lists require O(n) time for searches.\n",
        "9. ** How do sets handle duplicate values in Python?**\n",
        " - Sets automatically remove duplicate values, ensuring all elements are unique without manual checks.\n",
        "10. **Describe a scenario where using a tuple would be preferable over a list**\n",
        " - Tuples are preferable for fixed data like coordinates or database records where immutability ensures safety and consistency.\n",
        "11. **How does the “in” keyword work differently for lists and dictionaries?**\n",
        " - In lists, in checks for the presence of a value, while in dictionaries, it checks for the existence of a key.\n",
        "12. **Can you modify the elements of a tuple? Explain why or why not.**\n",
        " - No, tuples are immutable, meaning their elements cannot be changed, added, or removed after creation.\n",
        "13. **What is a nested dictionary, and give an example of its use case?**\n",
        " - A nested dictionary is a dictionary within a dictionary, useful for representing hierarchical data like a company's employee database.\n",
        "14. **Describe the time complexity of accessing elements in a dictionary.**\n",
        " - Dictionary lookups have an average time complexity of O(1) due to hashing, making them highly efficient.\n",
        "15. **In what situations are lists preferred over dictionaries?**\n",
        " - Lists are preferred when maintaining element order is essential or when storing sequential data without key-value pairs.\n",
        "16. **Why are dictionaries considered unordered, and how does that affect data retrieval?**\n",
        " - Dictionaries were unordered before Python 3.7; now, they maintain insertion order but still rely on hashing for quick lookups.\n",
        "17. **Explain the difference between a list and a dictionary in terms of data retrieval.**\n",
        " - Lists retrieve elements using index positions (O(1) for direct access), while dictionaries retrieve values using keys (O(1) on average).\n"
      ],
      "metadata": {
        "id": "wk2nNZfRwNSn"
      }
    },
    {
      "cell_type": "code",
      "source": [
        "#  Write a code to create a string with your name and print it\n",
        "name=\"Anuj Kumar\"\n",
        "name"
      ],
      "metadata": {
        "colab": {
          "base_uri": "https://localhost:8080/",
          "height": 35
        },
        "id": "ideArqLW3P4e",
        "outputId": "4417f929-5ad5-4679-90e1-fe144be47bb9"
      },
      "execution_count": 3,
      "outputs": [
        {
          "output_type": "execute_result",
          "data": {
            "text/plain": [
              "'Anuj Kumar'"
            ],
            "application/vnd.google.colaboratory.intrinsic+json": {
              "type": "string"
            }
          },
          "metadata": {},
          "execution_count": 3
        }
      ]
    },
    {
      "cell_type": "code",
      "source": [
        "# Write a code to find the length of the string \"Hello World\"\n",
        "len(\"Hello World\")"
      ],
      "metadata": {
        "colab": {
          "base_uri": "https://localhost:8080/"
        },
        "id": "WngXlfbu3pvn",
        "outputId": "3ebadd27-acc0-4aab-df48-32b1e4154a36"
      },
      "execution_count": 4,
      "outputs": [
        {
          "output_type": "execute_result",
          "data": {
            "text/plain": [
              "11"
            ]
          },
          "metadata": {},
          "execution_count": 4
        }
      ]
    },
    {
      "cell_type": "code",
      "source": [
        "#  Write a code to slice the first 3 characters from the string \"Python Programming\"\n",
        "str1=\"Anuj Kumar\"\n",
        "print(str1[:3])"
      ],
      "metadata": {
        "colab": {
          "base_uri": "https://localhost:8080/"
        },
        "id": "k9cZp5Au4JBZ",
        "outputId": "db6bb79b-b934-4cd1-be56-06ded4911358"
      },
      "execution_count": 5,
      "outputs": [
        {
          "output_type": "stream",
          "name": "stdout",
          "text": [
            "Anu\n"
          ]
        }
      ]
    },
    {
      "cell_type": "code",
      "source": [
        "# Write a code to convert the string \"hello\" to uppercase\n",
        "str2=\"anuj Kumar\"\n",
        "print(str2.upper())"
      ],
      "metadata": {
        "colab": {
          "base_uri": "https://localhost:8080/"
        },
        "id": "Qc2Pg-sr4pqw",
        "outputId": "e0cd3095-5be1-4342-e48b-55e393e73fd9"
      },
      "execution_count": 6,
      "outputs": [
        {
          "output_type": "stream",
          "name": "stdout",
          "text": [
            "ANUJ KUMAR\n"
          ]
        }
      ]
    },
    {
      "cell_type": "markdown",
      "source": [
        "**bold text**"
      ],
      "metadata": {
        "id": "10CkZXJOv3_o"
      }
    },
    {
      "cell_type": "code",
      "source": [
        "# Write a code to replace the word \"apple\" with \"orange\" in the string \"I like apple\"\n",
        "str3 = \" I have an apple\"\n",
        "str4=str3.replace(\"apple\", \"orange\")\n",
        "print(str4)"
      ],
      "metadata": {
        "colab": {
          "base_uri": "https://localhost:8080/"
        },
        "id": "hLHKsSGr4-Rx",
        "outputId": "6d4e4ae6-4489-4014-9e11-35f590ed90bc"
      },
      "execution_count": 12,
      "outputs": [
        {
          "output_type": "stream",
          "name": "stdout",
          "text": [
            " I have an orange\n"
          ]
        }
      ]
    },
    {
      "cell_type": "code",
      "source": [
        "l1=[1,2,3,4,5]\n",
        "print(l1)"
      ],
      "metadata": {
        "colab": {
          "base_uri": "https://localhost:8080/"
        },
        "id": "VmaHPO8k7jNn",
        "outputId": "b18c4a1f-94ae-45e3-9c74-8f8d1b69c8bf"
      },
      "execution_count": 13,
      "outputs": [
        {
          "output_type": "stream",
          "name": "stdout",
          "text": [
            "[1, 2, 3, 4, 5]\n"
          ]
        }
      ]
    },
    {
      "cell_type": "code",
      "source": [
        "type(l1)"
      ],
      "metadata": {
        "colab": {
          "base_uri": "https://localhost:8080/"
        },
        "id": "O8Lf5YvI5zkg",
        "outputId": "29093daf-21d3-4159-e840-67096422b434"
      },
      "execution_count": 14,
      "outputs": [
        {
          "output_type": "execute_result",
          "data": {
            "text/plain": [
              "list"
            ]
          },
          "metadata": {},
          "execution_count": 14
        }
      ]
    },
    {
      "cell_type": "code",
      "source": [
        "#  Write a code to append the number 10 to the list [1, 2, 3, 4]\n",
        "l2=[1,2,3,4]\n",
        "l2.append(10)\n",
        "print(l2)"
      ],
      "metadata": {
        "colab": {
          "base_uri": "https://localhost:8080/"
        },
        "id": "YAS23I4q7xZA",
        "outputId": "a4d1bc09-6786-4b72-e316-2b1125cd152d"
      },
      "execution_count": 24,
      "outputs": [
        {
          "output_type": "stream",
          "name": "stdout",
          "text": [
            "[1, 2, 3, 4, 10]\n"
          ]
        }
      ]
    },
    {
      "cell_type": "code",
      "source": [
        "l2=[1,2,3,4]\n",
        "l2.insert(1,10)\n",
        "print(l2)"
      ],
      "metadata": {
        "colab": {
          "base_uri": "https://localhost:8080/"
        },
        "id": "eEELqbdTF4sp",
        "outputId": "89c1a2dd-c81a-487d-e38f-150bc8c34bfd"
      },
      "execution_count": 25,
      "outputs": [
        {
          "output_type": "stream",
          "name": "stdout",
          "text": [
            "[1, 10, 2, 3, 4]\n"
          ]
        }
      ]
    },
    {
      "cell_type": "code",
      "source": [
        "# Write a code to remove the number 3 from the list [1, 2, 3, 4, 5]\n",
        "l3=[1,2,3,4,5]\n",
        "l3.pop(2)"
      ],
      "metadata": {
        "colab": {
          "base_uri": "https://localhost:8080/"
        },
        "id": "9UOgY3PZKHGt",
        "outputId": "5fb37bf9-2bc6-43fc-9111-2238ae6f8d25"
      },
      "execution_count": 26,
      "outputs": [
        {
          "output_type": "execute_result",
          "data": {
            "text/plain": [
              "3"
            ]
          },
          "metadata": {},
          "execution_count": 26
        }
      ]
    },
    {
      "cell_type": "code",
      "source": [
        "l3"
      ],
      "metadata": {
        "colab": {
          "base_uri": "https://localhost:8080/"
        },
        "id": "esyLnqE3LdC2",
        "outputId": "74918fe8-06a3-4814-cfc3-489307608680"
      },
      "execution_count": 27,
      "outputs": [
        {
          "output_type": "execute_result",
          "data": {
            "text/plain": [
              "[1, 2, 4, 5]"
            ]
          },
          "metadata": {},
          "execution_count": 27
        }
      ]
    },
    {
      "cell_type": "code",
      "source": [
        "#  Write a code to access the second element in the list ['a', 'b', 'c', 'd']\n",
        "l4=['a', 'b' , 'c' , 'd']\n",
        "print(l4[1])"
      ],
      "metadata": {
        "colab": {
          "base_uri": "https://localhost:8080/"
        },
        "id": "C5Qywq3QLqe9",
        "outputId": "743e5dcc-d787-45a8-e0f4-486b6c32eec3"
      },
      "execution_count": 39,
      "outputs": [
        {
          "output_type": "stream",
          "name": "stdout",
          "text": [
            "b\n"
          ]
        }
      ]
    },
    {
      "cell_type": "code",
      "source": [
        "# Write a code to reverse the list [10, 20, 30, 40, 50].\n",
        "l5=[1,2,3,4,5]\n",
        "l5.reverse\n",
        "print(l5)"
      ],
      "metadata": {
        "colab": {
          "base_uri": "https://localhost:8080/"
        },
        "id": "jqdc0d4fM5o7",
        "outputId": "81507438-4116-4746-ceaf-ad3aef3b767b"
      },
      "execution_count": 46,
      "outputs": [
        {
          "output_type": "stream",
          "name": "stdout",
          "text": [
            "[1, 2, 3, 4, 5]\n"
          ]
        }
      ]
    },
    {
      "cell_type": "code",
      "source": [
        "l5"
      ],
      "metadata": {
        "colab": {
          "base_uri": "https://localhost:8080/"
        },
        "id": "vV30UTePNaRW",
        "outputId": "01757369-16b7-4ace-b113-c46e7df0691d"
      },
      "execution_count": 47,
      "outputs": [
        {
          "output_type": "execute_result",
          "data": {
            "text/plain": [
              "[1, 2, 3, 4, 5]"
            ]
          },
          "metadata": {},
          "execution_count": 47
        }
      ]
    },
    {
      "cell_type": "code",
      "source": [
        "print(l5[::-1])"
      ],
      "metadata": {
        "colab": {
          "base_uri": "https://localhost:8080/"
        },
        "id": "JlgaxB7bOn7A",
        "outputId": "4f0118b4-047b-4995-e2df-b563b39d7111"
      },
      "execution_count": 48,
      "outputs": [
        {
          "output_type": "stream",
          "name": "stdout",
          "text": [
            "[5, 4, 3, 2, 1]\n"
          ]
        }
      ]
    },
    {
      "cell_type": "code",
      "source": [
        "# . Write a code to create a tuple with the elements 100, 200, 300 and print it.\n",
        "t1=(100, 200, 300)\n",
        "print(type(t1))"
      ],
      "metadata": {
        "colab": {
          "base_uri": "https://localhost:8080/"
        },
        "id": "hYzIM1vtOvDm",
        "outputId": "0bed2081-2eba-4a83-beb0-f6e0b4270839"
      },
      "execution_count": 50,
      "outputs": [
        {
          "output_type": "stream",
          "name": "stdout",
          "text": [
            "<class 'tuple'>\n"
          ]
        }
      ]
    },
    {
      "cell_type": "code",
      "source": [
        "# . Write a code to access the second-to-last element of the tuple ('red', 'green', 'blue', 'yellow\n",
        "t2=('red' , 'green' , 'blue' , 'yellow')\n",
        "print(t2[-2])"
      ],
      "metadata": {
        "colab": {
          "base_uri": "https://localhost:8080/"
        },
        "id": "3CJtoWtdSkyk",
        "outputId": "4f115b42-35c7-4105-877b-32429af53050"
      },
      "execution_count": 52,
      "outputs": [
        {
          "output_type": "stream",
          "name": "stdout",
          "text": [
            "blue\n"
          ]
        }
      ]
    },
    {
      "cell_type": "code",
      "source": [
        "# . Write a code to find the minimum number in the tuple (10, 20, 5, 15).\n",
        "t3=(10,20,5,15)\n",
        "print(min(t3))"
      ],
      "metadata": {
        "colab": {
          "base_uri": "https://localhost:8080/"
        },
        "id": "Q-CQONJzTB--",
        "outputId": "48e72cab-e96b-496b-99fe-f7a70d505b2b"
      },
      "execution_count": 54,
      "outputs": [
        {
          "output_type": "stream",
          "name": "stdout",
          "text": [
            "5\n"
          ]
        }
      ]
    },
    {
      "cell_type": "code",
      "source": [
        "# . Write a code to find the index of the element \"cat\" in the tuple ('dog', 'cat', 'rabbit').\n",
        "t4=(\"dog\", \"cat\" , \"rabbit\" )\n",
        "t4.index(\"cat\")"
      ],
      "metadata": {
        "colab": {
          "base_uri": "https://localhost:8080/"
        },
        "id": "BiiaH54-Txdy",
        "outputId": "8ff8a31b-7bee-4987-e508-1f153beefb08"
      },
      "execution_count": 55,
      "outputs": [
        {
          "output_type": "execute_result",
          "data": {
            "text/plain": [
              "1"
            ]
          },
          "metadata": {},
          "execution_count": 55
        }
      ]
    },
    {
      "cell_type": "code",
      "source": [
        "# . Write a code to create a tuple containing three different fruits and check if \"kiwi\" is in it\n",
        "t5=(\"apple\" , \"banana\" , \"kiwi\")\n",
        "\"kiwi\" in t5"
      ],
      "metadata": {
        "colab": {
          "base_uri": "https://localhost:8080/"
        },
        "id": "jC_aFK1hUskX",
        "outputId": "9a176d84-d911-4cc4-fcf0-1b40f7cf569c"
      },
      "execution_count": 67,
      "outputs": [
        {
          "output_type": "execute_result",
          "data": {
            "text/plain": [
              "True"
            ]
          },
          "metadata": {},
          "execution_count": 67
        }
      ]
    },
    {
      "cell_type": "code",
      "source": [
        "#. Write a code to create a set with the elements 'a', 'b', 'c' and print it.\n",
        "set1={'a', 'b', 'c' , 2 , 3, }\n",
        "set1"
      ],
      "metadata": {
        "colab": {
          "base_uri": "https://localhost:8080/"
        },
        "id": "hdGo-4zwU_Hk",
        "outputId": "2d466f9b-3131-4cdb-96b2-468618b9ba76"
      },
      "execution_count": 73,
      "outputs": [
        {
          "output_type": "execute_result",
          "data": {
            "text/plain": [
              "{2, 3, 'a', 'b', 'c'}"
            ]
          },
          "metadata": {},
          "execution_count": 73
        }
      ]
    },
    {
      "cell_type": "code",
      "source": [
        "# . Write a code to clear all elements from the set {1, 2, 3, 4, 5}.\n",
        "set2={1,2,3,4,5}\n",
        "print(set2.clear())"
      ],
      "metadata": {
        "colab": {
          "base_uri": "https://localhost:8080/"
        },
        "id": "0N-apaIpYLRq",
        "outputId": "a15cb5a8-15e2-4ccf-9801-02d0495b230b"
      },
      "execution_count": 74,
      "outputs": [
        {
          "output_type": "stream",
          "name": "stdout",
          "text": [
            "None\n"
          ]
        }
      ]
    },
    {
      "cell_type": "code",
      "source": [
        "set2"
      ],
      "metadata": {
        "colab": {
          "base_uri": "https://localhost:8080/"
        },
        "id": "acjt9E7fY6hU",
        "outputId": "689b55e5-7810-44e7-e1b7-43d3b0bb0e1d"
      },
      "execution_count": 75,
      "outputs": [
        {
          "output_type": "execute_result",
          "data": {
            "text/plain": [
              "set()"
            ]
          },
          "metadata": {},
          "execution_count": 75
        }
      ]
    },
    {
      "cell_type": "code",
      "source": [
        "# . Write a code to remove the element 4 from the set {1, 2, 3, 4}.\n",
        "set3={1, 2, 3, 4}\n",
        "set3.remove(4)\n",
        "print(set3)"
      ],
      "metadata": {
        "colab": {
          "base_uri": "https://localhost:8080/"
        },
        "id": "a7tJhkjuY9kr",
        "outputId": "0710c4ad-692d-4711-e7b3-f885daf6cd46"
      },
      "execution_count": 80,
      "outputs": [
        {
          "output_type": "stream",
          "name": "stdout",
          "text": [
            "{1, 2, 3}\n"
          ]
        }
      ]
    },
    {
      "cell_type": "code",
      "source": [
        "# . Write a code to find the union of two sets {1, 2, 3} and {3, 4, 5}.\n",
        "s1={1,2,3}\n",
        "s2={3,4,5}\n",
        "print(s1 | s2)"
      ],
      "metadata": {
        "colab": {
          "base_uri": "https://localhost:8080/"
        },
        "id": "ul5K16izo6AH",
        "outputId": "4b40a041-7b3b-46ed-b7a1-91459586bd4b"
      },
      "execution_count": 81,
      "outputs": [
        {
          "output_type": "stream",
          "name": "stdout",
          "text": [
            "{1, 2, 3, 4, 5}\n"
          ]
        }
      ]
    },
    {
      "cell_type": "code",
      "source": [
        "s1"
      ],
      "metadata": {
        "colab": {
          "base_uri": "https://localhost:8080/"
        },
        "id": "K8AFEbYYqBiP",
        "outputId": "65bfd536-1ab6-43c2-ceb9-a2964a8f5dea"
      },
      "execution_count": 82,
      "outputs": [
        {
          "output_type": "execute_result",
          "data": {
            "text/plain": [
              "{1, 2, 3}"
            ]
          },
          "metadata": {},
          "execution_count": 82
        }
      ]
    },
    {
      "cell_type": "code",
      "source": [
        "print(s1 ^ s2)"
      ],
      "metadata": {
        "colab": {
          "base_uri": "https://localhost:8080/"
        },
        "id": "fvbu0-pLqgTv",
        "outputId": "bab0574a-32a6-43d1-eb92-7697a9335756"
      },
      "execution_count": 83,
      "outputs": [
        {
          "output_type": "stream",
          "name": "stdout",
          "text": [
            "{1, 2, 4, 5}\n"
          ]
        }
      ]
    },
    {
      "cell_type": "code",
      "source": [
        "#  Write a code to create a dictionary with the keys \"name\", \"age\", and \"city\", and print it.\n",
        "dict={\"name\":\"Anuj\",\"Age\":25,\"City\":\"Patna\"}\n",
        "print(dict)"
      ],
      "metadata": {
        "colab": {
          "base_uri": "https://localhost:8080/"
        },
        "id": "x8OGrx1jql9Z",
        "outputId": "797a7ba6-2403-479a-b0e3-5dd61569835c"
      },
      "execution_count": 91,
      "outputs": [
        {
          "output_type": "stream",
          "name": "stdout",
          "text": [
            "{'name': 'Anuj', 'Age': 25, 'City': 'Patna'}\n"
          ]
        }
      ]
    },
    {
      "cell_type": "code",
      "source": [
        "dict"
      ],
      "metadata": {
        "colab": {
          "base_uri": "https://localhost:8080/"
        },
        "id": "F9hsVTC-rF74",
        "outputId": "ce76ed12-3b24-4dc7-f999-62d49389ae4e"
      },
      "execution_count": 92,
      "outputs": [
        {
          "output_type": "execute_result",
          "data": {
            "text/plain": [
              "{'name': 'Anuj', 'Age': 25, 'City': 'Patna'}"
            ]
          },
          "metadata": {},
          "execution_count": 92
        }
      ]
    },
    {
      "cell_type": "code",
      "source": [
        "dict.update({\"Country\":\"India\"})"
      ],
      "metadata": {
        "id": "UQXW-CpHs2KZ"
      },
      "execution_count": 93,
      "outputs": []
    },
    {
      "cell_type": "code",
      "source": [
        "dict"
      ],
      "metadata": {
        "colab": {
          "base_uri": "https://localhost:8080/"
        },
        "id": "8z6CxB72tj9f",
        "outputId": "2d837c09-b820-4b1b-d240-046ba22aea54"
      },
      "execution_count": 105,
      "outputs": [
        {
          "output_type": "execute_result",
          "data": {
            "text/plain": [
              "{'name': 'Anuj', 'Age': 25, 'City': 'Patna', 'Country': 'India'}"
            ]
          },
          "metadata": {},
          "execution_count": 105
        }
      ]
    },
    {
      "cell_type": "code",
      "source": [
        "if \"name\" in dict:\n",
        "  print (\"key 'name' is here\")"
      ],
      "metadata": {
        "colab": {
          "base_uri": "https://localhost:8080/"
        },
        "id": "LMnTEy5ctl1x",
        "outputId": "5764666f-67cf-437f-9e90-59e6da93259b"
      },
      "execution_count": 109,
      "outputs": [
        {
          "output_type": "stream",
          "name": "stdout",
          "text": [
            "key 'name' is here\n"
          ]
        }
      ]
    },
    {
      "cell_type": "code",
      "source": [
        "dict"
      ],
      "metadata": {
        "colab": {
          "base_uri": "https://localhost:8080/"
        },
        "id": "5ajxlAENuqwW",
        "outputId": "b97b0d6c-eb31-4ec1-fee2-0f7e7b48f7d1"
      },
      "execution_count": 110,
      "outputs": [
        {
          "output_type": "execute_result",
          "data": {
            "text/plain": [
              "{'name': 'Anuj', 'Age': 25, 'City': 'Patna', 'Country': 'India'}"
            ]
          },
          "metadata": {},
          "execution_count": 110
        }
      ]
    },
    {
      "cell_type": "code",
      "source": [
        "if \"name\" in dict.keys():\n",
        "  print(\"Key 'name' is here\")"
      ],
      "metadata": {
        "colab": {
          "base_uri": "https://localhost:8080/"
        },
        "id": "3hstD6uIxIcZ",
        "outputId": "7bc7b91b-b7a1-4fd2-e287-1a64b6dac779"
      },
      "execution_count": 111,
      "outputs": [
        {
          "output_type": "stream",
          "name": "stdout",
          "text": [
            "Key 'name' is here\n"
          ]
        }
      ]
    },
    {
      "cell_type": "code",
      "source": [
        "dict"
      ],
      "metadata": {
        "colab": {
          "base_uri": "https://localhost:8080/"
        },
        "id": "RJJUo6GZxgQI",
        "outputId": "e11775da-21df-46c2-ad94-c622630c3cdb"
      },
      "execution_count": 112,
      "outputs": [
        {
          "output_type": "execute_result",
          "data": {
            "text/plain": [
              "{'name': 'Anuj', 'Age': 25, 'City': 'Patna', 'Country': 'India'}"
            ]
          },
          "metadata": {},
          "execution_count": 112
        }
      ]
    },
    {
      "cell_type": "code",
      "source": [
        "dict.pop(\"Age\")"
      ],
      "metadata": {
        "colab": {
          "base_uri": "https://localhost:8080/"
        },
        "id": "MdQS0DdexpVA",
        "outputId": "e0af08e0-268f-46ee-939d-71f94f059ac2"
      },
      "execution_count": 114,
      "outputs": [
        {
          "output_type": "execute_result",
          "data": {
            "text/plain": [
              "25"
            ]
          },
          "metadata": {},
          "execution_count": 114
        }
      ]
    },
    {
      "cell_type": "code",
      "source": [
        "dict"
      ],
      "metadata": {
        "colab": {
          "base_uri": "https://localhost:8080/"
        },
        "id": "WAZyG25axv9-",
        "outputId": "cf8392a0-a6d7-41d0-fd78-03a43ba92b51"
      },
      "execution_count": 115,
      "outputs": [
        {
          "output_type": "execute_result",
          "data": {
            "text/plain": [
              "{'name': 'Anuj', 'City': 'Patna', 'Country': 'India'}"
            ]
          },
          "metadata": {},
          "execution_count": 115
        }
      ]
    },
    {
      "cell_type": "code",
      "source": [
        "lst=[1,2,\"Anuj\",2.12,True]"
      ],
      "metadata": {
        "id": "gY8cm7Blx10H"
      },
      "execution_count": 116,
      "outputs": []
    },
    {
      "cell_type": "code",
      "source": [
        "lst"
      ],
      "metadata": {
        "colab": {
          "base_uri": "https://localhost:8080/"
        },
        "id": "gRe8fbg_ycLz",
        "outputId": "d4d9a9ef-00cf-431d-cb57-0ecaed466fef"
      },
      "execution_count": 117,
      "outputs": [
        {
          "output_type": "execute_result",
          "data": {
            "text/plain": [
              "[1, 2, 'Anuj', 2.12, True]"
            ]
          },
          "metadata": {},
          "execution_count": 117
        }
      ]
    },
    {
      "cell_type": "code",
      "source": [
        "tup=(\"anuj\",\"vikrant\",123,True)"
      ],
      "metadata": {
        "id": "_BshoiC9yd6S"
      },
      "execution_count": 118,
      "outputs": []
    },
    {
      "cell_type": "code",
      "source": [
        "tup"
      ],
      "metadata": {
        "colab": {
          "base_uri": "https://localhost:8080/"
        },
        "id": "rdO7y_1fyohH",
        "outputId": "d2943712-79b9-45fe-ce48-1f72f6cb768c"
      },
      "execution_count": 119,
      "outputs": [
        {
          "output_type": "execute_result",
          "data": {
            "text/plain": [
              "('anuj', 'vikrant', 123, True)"
            ]
          },
          "metadata": {},
          "execution_count": 119
        }
      ]
    },
    {
      "cell_type": "code",
      "source": [
        "dis={\"name\":\"Anuj\",\"Age\":23,\"Phone no\":7367383}"
      ],
      "metadata": {
        "id": "Ly3ZJs2yypiv"
      },
      "execution_count": 120,
      "outputs": []
    },
    {
      "cell_type": "code",
      "source": [
        "dis"
      ],
      "metadata": {
        "colab": {
          "base_uri": "https://localhost:8080/"
        },
        "id": "OtlUW1ZBy8Ww",
        "outputId": "2360a72a-1e48-4a13-ecc9-1ce9438cd346"
      },
      "execution_count": 121,
      "outputs": [
        {
          "output_type": "execute_result",
          "data": {
            "text/plain": [
              "{'name': 'Anuj', 'Age': 23, 'Phone no': 7367383}"
            ]
          },
          "metadata": {},
          "execution_count": 121
        }
      ]
    },
    {
      "cell_type": "code",
      "source": [
        "#  27. Write a code to create a list of 5 random numbers between 1 and 100, sort it in ascending order, and print the\n",
        "\n",
        "import random\n",
        "rand_num=random.sample(range(1,100),5)\n",
        "rand_num.sort()\n",
        "print(rand_num)"
      ],
      "metadata": {
        "colab": {
          "base_uri": "https://localhost:8080/"
        },
        "id": "029efB-2zXj_",
        "outputId": "0cee4ade-0e94-44e7-bc75-f84d6c27d575"
      },
      "execution_count": 129,
      "outputs": [
        {
          "output_type": "stream",
          "name": "stdout",
          "text": [
            "[19, 21, 33, 53, 79]\n"
          ]
        }
      ]
    },
    {
      "cell_type": "code",
      "source": [
        "# . Write a code to create a list with strings and print the element at the third index.\n",
        "list_with_str=[\"Anuj\" , \"Vikrant\" , \"Alka\" , \"Shama\" , \"Sajal\"]\n",
        "print(list_with_str[3])"
      ],
      "metadata": {
        "colab": {
          "base_uri": "https://localhost:8080/"
        },
        "id": "bSxBx-xa0SkU",
        "outputId": "04dcd1ba-2383-4b0a-c464-94456983308f"
      },
      "execution_count": 130,
      "outputs": [
        {
          "output_type": "stream",
          "name": "stdout",
          "text": [
            "Shama\n"
          ]
        }
      ]
    },
    {
      "cell_type": "code",
      "source": [
        "# . Write a code to combine two dictionaries into one and print the result.\n",
        "dis={\"name\":\"Anuj\",\"Age\":23,\"Phone no\":736738}\n",
        "dist2={\"add\":\"abc\",\"E.Code\":234}\n",
        "dis.update(dist2)\n",
        "print(dis)\n"
      ],
      "metadata": {
        "colab": {
          "base_uri": "https://localhost:8080/"
        },
        "id": "2OHVWk6JCWzP",
        "outputId": "29fde176-4724-46d1-aed3-bb6469040634"
      },
      "execution_count": 131,
      "outputs": [
        {
          "output_type": "stream",
          "name": "stdout",
          "text": [
            "{'name': 'Anuj', 'Age': 23, 'Phone no': 736738, 'add': 'abc', 'E.Code': 234}\n"
          ]
        }
      ]
    },
    {
      "cell_type": "code",
      "source": [
        "from google.colab import drive\n",
        "drive.mount('/content/drive')"
      ],
      "metadata": {
        "id": "bo5P6pbzGUXk"
      },
      "execution_count": null,
      "outputs": []
    },
    {
      "cell_type": "code",
      "source": [
        "# . Write a code to convert a list of strings into a set.\n",
        "list_with_str=[\"Anuj\" , \"Vikrant\" , \"Alka\" , \"Shama\" , \"Sajal\"]\n",
        "list_with_str=set(list_with_str)\n",
        "print(list_with_str)"
      ],
      "metadata": {
        "colab": {
          "base_uri": "https://localhost:8080/"
        },
        "id": "0vqeqV0qDro3",
        "outputId": "f65bbf00-2507-4c72-c80a-2925e01c89f3"
      },
      "execution_count": 132,
      "outputs": [
        {
          "output_type": "stream",
          "name": "stdout",
          "text": [
            "{'Sajal', 'Shama', 'Vikrant', 'Anuj', 'Alka'}\n"
          ]
        }
      ]
    },
    {
      "cell_type": "code",
      "source": [
        "type(list_with_str)"
      ],
      "metadata": {
        "colab": {
          "base_uri": "https://localhost:8080/"
        },
        "id": "_qC-VZNDEu3E",
        "outputId": "0c4335f0-05cc-4223-f1dd-5353e7e544dd"
      },
      "execution_count": 133,
      "outputs": [
        {
          "output_type": "execute_result",
          "data": {
            "text/plain": [
              "set"
            ]
          },
          "metadata": {},
          "execution_count": 133
        }
      ]
    },
    {
      "cell_type": "code",
      "source": [],
      "metadata": {
        "id": "FIZC5n0JEz2K"
      },
      "execution_count": null,
      "outputs": []
    }
  ]
}